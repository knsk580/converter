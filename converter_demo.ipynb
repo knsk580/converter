{
  "cells": [
    {
      "cell_type": "markdown",
      "metadata": {},
      "source": [
        "# HTML to JSON Converter for RAG\n",
        "業務システムのマニュアル・FAQのHTMLファイルをRAG用のJSONに変換するデモ\n",
        "\n",
        "## 実行手順\n",
        "1. 必要なライブラリをインストール\n",
        "2. HTMLファイルを`input`フォルダにアップロード\n",
        "3. 必要に応じて`noise_pattern.txt`にノイズパターンを設定\n",
        "4. 変換処理を実行\n",
        "5. `output`フォルダから結果をダウンロード\n"
      ]
    },
    {
      "cell_type": "markdown",
      "metadata": {},
      "source": [
        "## 1. 環境準備とファイルアップロード\n"
      ]
    },
    {
      "cell_type": "code",
      "execution_count": null,
      "metadata": {},
      "outputs": [],
      "source": [
        "# 必要なディレクトリを作成\n",
        "import os\n",
        "os.makedirs('input', exist_ok=True)\n",
        "os.makedirs('output', exist_ok=True)\n",
        "\n",
        "# noise_pattern.txtを作成（必要に応じて編集）\n",
        "with open('noise_pattern.txt', 'w', encoding='utf-8') as f:\n",
        "    f.write(\"# ノイズパターン（正規表現）\\n\")\n",
        "    f.write(\"# 例：\\n\")\n",
        "    f.write(\"# <div class=\\\"advertisement\\\">.*?</div>\\n\")\n",
        "    f.write(\"# <footer>.*?</footer>\\n\")\n",
        "\n",
        "print(\"ディレクトリとファイルを作成しました\")\n",
        "print(\"次に、HTMLファイルをinputフォルダにアップロードしてください\")\n"
      ]
    },
    {
      "cell_type": "code",
      "execution_count": null,
      "metadata": {},
      "outputs": [],
      "source": [
        "# ファイルアップロード（Google Colab用）\n",
        "from google.colab import files\n",
        "import shutil\n",
        "\n",
        "print(\"HTMLファイルをアップロードしてください\")\n",
        "uploaded = files.upload()\n",
        "\n",
        "# アップロードされたファイルをinputフォルダに移動\n",
        "for filename in uploaded.keys():\n",
        "    if filename.endswith(('.html', '.htm')):\n",
        "        shutil.move(filename, f'input/{filename}')\n",
        "        print(f\"移動完了: {filename} -> input/{filename}\")\n",
        "    else:\n",
        "        print(f\"HTMLファイルではありません: {filename}\")\n"
      ]
    },
    {
      "cell_type": "markdown",
      "metadata": {},
      "source": [
        "## 2. 変換処理の実行\n"
      ]
    },
    {
      "cell_type": "code",
      "execution_count": null,
      "metadata": {},
      "outputs": [],
      "source": [
        "# 変換スクリプトを実行\n",
        "%run html_to_json_converter.py\n"
      ]
    },
    {
      "cell_type": "markdown",
      "metadata": {},
      "source": [
        "## 3. 結果の確認とダウンロード\n"
      ]
    },
    {
      "cell_type": "code",
      "execution_count": null,
      "metadata": {},
      "outputs": [],
      "source": [
        "# 結果ファイルの内容を確認\n",
        "import json\n",
        "import os\n",
        "\n",
        "output_file = 'output/converted_documents.json'\n",
        "if os.path.exists(output_file):\n",
        "    with open(output_file, 'r', encoding='utf-8') as f:\n",
        "        data = json.load(f)\n",
        "    \n",
        "    print(f\"変換完了: {len(data)} 個のドキュメントを生成\")\n",
        "    print(\"\\n=== サンプルドキュメント ===\")\n",
        "    if data:\n",
        "        sample = data[0]\n",
        "        print(f\"ID: {sample['id']}\")\n",
        "        print(f\"ソース: {sample['metadata']['source']}\")\n",
        "        print(f\"URL: {sample['metadata']['url']}\")\n",
        "        print(f\"内容プレビュー: {sample['content'][:200]}...\")\n",
        "else:\n",
        "    print(\"変換結果ファイルが見つかりません\")\n"
      ]
    },
    {
      "cell_type": "code",
      "execution_count": null,
      "metadata": {},
      "outputs": [],
      "source": [
        "# 結果ファイルをダウンロード\n",
        "from google.colab import files\n",
        "\n",
        "if os.path.exists('output/converted_documents.json'):\n",
        "    files.download('output/converted_documents.json')\n",
        "    print(\"ダウンロード完了\")\n",
        "else:\n",
        "    print(\"ダウンロードするファイルがありません\")\n"
      ]
    }
  ],
  "metadata": {
    "language_info": {
      "name": "python"
    }
  },
  "nbformat": 4,
  "nbformat_minor": 2
}
